{
 "cells": [
  {
   "cell_type": "code",
   "execution_count": 20,
   "metadata": {},
   "outputs": [
    {
     "name": "stdout",
     "output_type": "stream",
     "text": [
      "╔═══╦═══╦═══╗\n",
      "║   ║   ║   ║\n",
      "╠═══╬═══╬═══╣\n",
      "║   ║   ║   ║\n",
      "╠═══╬═══╬═══╣\n",
      "║ ■ ║   ║   ║\n",
      "╠═══╬═══╬═══╣\n",
      "║ ■ ║   ║   ║\n",
      "╚═══╬═══╬═══╝\n",
      "    ║   ║    \n",
      "    ╠═══╣    \n",
      "    ║   ║    \n",
      "╔═══╬═══╬═══╗\n",
      "║   ║   ║   ║\n",
      "╠═══╬═══╬═══╣\n",
      "║   ║   ║   ║\n",
      "╚═══╩═══╩═══╝\n"
     ]
    }
   ],
   "source": [
    "def drawmap(state):\n",
    "    board = \"\"\"╔═══╦═══╦═══╗\n",
    "║ 1,1 ║ 1,2 ║ 1,3 ║\n",
    "╠═══╬═══╬═══╣\n",
    "║ 2,1 ║ 2,2 ║ 2,3 ║\n",
    "╠═══╬═══╬═══╣\n",
    "║ 3,1 ║ 3,2 ║ 3,3 ║\n",
    "╠═══╬═══╬═══╣\n",
    "║ 4,1 ║ 4,2 ║ 4,3 ║\n",
    "╚═══╬═══╬═══╝\n",
    "    ║ 5,2 ║    \n",
    "    ╠═══╣    \n",
    "    ║ 6,2 ║    \n",
    "╔═══╬═══╬═══╗\n",
    "║ 7,1 ║ 7,2 ║ 7,3 ║\n",
    "╠═══╬═══╬═══╣\n",
    "║ 8,1 ║ 8,2 ║ 8,3 ║\n",
    "╚═══╩═══╩═══╝\"\"\"\n",
    "    \n",
    "    p1, p2 = state\n",
    "    for i in range(8):\n",
    "        for j in range(3):\n",
    "            key = str(i+1) + \",\" + str(j+1)\n",
    "            if key in p1:\n",
    "                board = board.replace(key, \"■\")\n",
    "            elif key in p2:\n",
    "                board = board.replace(key, \"□\")\n",
    "            else:\n",
    "                board = board.replace(key, \" \")\n",
    "    print(board)\n",
    "    \n",
    "def setState(path1, path2):\n",
    "    correspondence1 = [(4,1), (3,1), (2,1), (1,1), (1,2), (2,2), (3,2), (4,2), (5,2), (6,2), (7,2), (8,2), (8,1), (7,1)]\n",
    "    correspondence2 = [(4,3), (3,3), (2,3), (1,3), (1,2), (2,2), (3,2), (4,2), (5,2), (6,2), (7,2), (8,2), (8,3), (7,3)]\n",
    "    \n",
    "s = ([\"4,1\", \"3,1\"],[])\n",
    "drawmap(s)"
   ]
  }
 ],
 "metadata": {
  "kernelspec": {
   "display_name": "Python 3",
   "language": "python",
   "name": "python3"
  },
  "language_info": {
   "codemirror_mode": {
    "name": "ipython",
    "version": 3
   },
   "file_extension": ".py",
   "mimetype": "text/x-python",
   "name": "python",
   "nbconvert_exporter": "python",
   "pygments_lexer": "ipython3",
   "version": "3.5.2"
  }
 },
 "nbformat": 4,
 "nbformat_minor": 2
}
